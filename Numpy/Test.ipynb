{
 "cells": [
  {
   "cell_type": "markdown",
   "metadata": {},
   "source": [
    "โปรแกรมตรวจสอบแพ็กเกจ"
   ]
  },
  {
   "cell_type": "code",
   "execution_count": 1,
   "metadata": {},
   "outputs": [
    {
     "name": "stdout",
     "output_type": "stream",
     "text": [
      "IPython version 8.25.0 (need at least 1.0)\n",
      "JupyterLab version  4.2.2 (need at least 0.35.x)\n",
      "Numpy version 1.26.4 (need at least 1.7.1)\n",
      "xlrd version:  2.0.1 (need at least 1.0.0)\n",
      "Pandas version:  2.2.2 (need at least 0.23.0)\n",
      "Matplotlib version:  3.9.0 (need at least 1.2.1)\n"
     ]
    }
   ],
   "source": [
    "#IPython\n",
    "import IPython\n",
    "print(\"IPython version %6.6s (need at least 1.0)\" % IPython.__version__)\n",
    "\n",
    "import jupyterlab\n",
    "print(\"JupyterLab version %6.6s (need at least 0.35.x)\" % jupyterlab.__version__)\n",
    "\n",
    "#Numpy\n",
    "import numpy as np\n",
    "print(\"Numpy version %6.6s (need at least 1.7.1)\" % np.__version__)\n",
    "\n",
    "#xlrd (read excel)\n",
    "import xlrd\n",
    "print(\"xlrd version: %6.6s (need at least 1.0.0)\" % xlrd.__version__)\n",
    "\n",
    "#Pandas for data tables\n",
    "import pandas as pd\n",
    "print(\"Pandas version: %6.6s (need at least 0.23.0)\" % pd.__version__)\n",
    "\n",
    "#plotting\n",
    "import matplotlib\n",
    "print(\"Matplotlib version: %6.6s (need at least 1.2.1)\" % matplotlib.__version__)"
   ]
  },
  {
   "cell_type": "code",
   "execution_count": null,
   "metadata": {},
   "outputs": [],
   "source": []
  },
  {
   "cell_type": "code",
   "execution_count": null,
   "metadata": {},
   "outputs": [],
   "source": []
  }
 ],
 "metadata": {
  "kernelspec": {
   "display_name": "Python 3",
   "language": "python",
   "name": "python3"
  },
  "language_info": {
   "codemirror_mode": {
    "name": "ipython",
    "version": 3
   },
   "file_extension": ".py",
   "mimetype": "text/x-python",
   "name": "python",
   "nbconvert_exporter": "python",
   "pygments_lexer": "ipython3",
   "version": "3.11.9"
  }
 },
 "nbformat": 4,
 "nbformat_minor": 2
}
