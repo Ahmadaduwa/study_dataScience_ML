{
 "cells": [
  {
   "cell_type": "markdown",
   "metadata": {},
   "source": [
    "WS 1 Mean Max Min"
   ]
  },
  {
   "cell_type": "code",
   "execution_count": 2,
   "metadata": {},
   "outputs": [
    {
     "name": "stdout",
     "output_type": "stream",
     "text": [
      "1.9625\n",
      "3.0\n",
      "1.2\n",
      "0.611642986436649\n"
     ]
    }
   ],
   "source": [
    "import numpy as np\n",
    "import pandas as pd\n",
    "datas = [1.2, 2.3, 1.5, 2,3, 1.8, 1.4, 2.5]\n",
    "ds = pd.Series(datas)\n",
    "print(ds.mean())\n",
    "print(ds.max())\n",
    "print(ds.min())\n",
    "print(ds.std())"
   ]
  },
  {
   "cell_type": "code",
   "execution_count": 3,
   "metadata": {},
   "outputs": [
    {
     "data": {
      "text/plain": [
       "array([1.2, 2.3, 1.5, 2. , 3. , 1.8, 1.4, 2.5])"
      ]
     },
     "execution_count": 3,
     "metadata": {},
     "output_type": "execute_result"
    }
   ],
   "source": [
    "ds.values"
   ]
  },
  {
   "cell_type": "markdown",
   "metadata": {},
   "source": [
    "WS 2 Mean Max Min from excel"
   ]
  },
  {
   "cell_type": "code",
   "execution_count": 24,
   "metadata": {},
   "outputs": [
    {
     "data": {
      "text/plain": [
       "Name       object\n",
       "Age         int64\n",
       "Buy       float64\n",
       "Sex         int64\n",
       "Gender     object\n",
       "Date       object\n",
       "dtype: object"
      ]
     },
     "execution_count": 24,
     "metadata": {},
     "output_type": "execute_result"
    }
   ],
   "source": [
    "uri = \"data/stats_freq.xlsx\"\n",
    "df = pd.read_excel(uri)\n",
    "df.dtypes"
   ]
  },
  {
   "cell_type": "code",
   "execution_count": 25,
   "metadata": {},
   "outputs": [
    {
     "data": {
      "text/plain": [
       "Name        object\n",
       "Age          int64\n",
       "Buy        float64\n",
       "Sex       category\n",
       "Gender      object\n",
       "Date        object\n",
       "dtype: object"
      ]
     },
     "execution_count": 25,
     "metadata": {},
     "output_type": "execute_result"
    }
   ],
   "source": [
    "df.Sex = df.Sex.astype(\"category\")\n",
    "df.dtypes"
   ]
  },
  {
   "cell_type": "code",
   "execution_count": 28,
   "metadata": {},
   "outputs": [
    {
     "data": {
      "text/plain": [
       "Age    27.0000\n",
       "Buy     1.9625\n",
       "dtype: float64"
      ]
     },
     "execution_count": 28,
     "metadata": {},
     "output_type": "execute_result"
    }
   ],
   "source": [
    "# เลือกเฉพาะคอลัมน์ที่เป็นตัวเลข\n",
    "df_num = df.select_dtypes(include=[np.number])\n",
    "\n",
    "# คำนวณค่าเฉลี่ย\n",
    "df_num.mean()"
   ]
  },
  {
   "cell_type": "code",
   "execution_count": 30,
   "metadata": {},
   "outputs": [
    {
     "name": "stdout",
     "output_type": "stream",
     "text": [
      "Age    35.0\n",
      "Buy     3.0\n",
      "dtype: float64\n",
      "Age    22.0\n",
      "Buy     1.2\n",
      "dtype: float64\n",
      "Age    4.472136\n",
      "Buy    0.611643\n",
      "dtype: float64\n"
     ]
    }
   ],
   "source": [
    "print(df_num.max())\n",
    "print(df_num.min())\n",
    "print(df_num.std())"
   ]
  },
  {
   "cell_type": "code",
   "execution_count": 31,
   "metadata": {},
   "outputs": [
    {
     "data": {
      "text/html": [
       "<div>\n",
       "<style scoped>\n",
       "    .dataframe tbody tr th:only-of-type {\n",
       "        vertical-align: middle;\n",
       "    }\n",
       "\n",
       "    .dataframe tbody tr th {\n",
       "        vertical-align: top;\n",
       "    }\n",
       "\n",
       "    .dataframe thead th {\n",
       "        text-align: right;\n",
       "    }\n",
       "</style>\n",
       "<table border=\"1\" class=\"dataframe\">\n",
       "  <thead>\n",
       "    <tr style=\"text-align: right;\">\n",
       "      <th></th>\n",
       "      <th>Age</th>\n",
       "      <th>Buy</th>\n",
       "    </tr>\n",
       "  </thead>\n",
       "  <tbody>\n",
       "    <tr>\n",
       "      <th>count</th>\n",
       "      <td>8.000000</td>\n",
       "      <td>8.000000</td>\n",
       "    </tr>\n",
       "    <tr>\n",
       "      <th>mean</th>\n",
       "      <td>27.000000</td>\n",
       "      <td>1.962500</td>\n",
       "    </tr>\n",
       "    <tr>\n",
       "      <th>std</th>\n",
       "      <td>4.472136</td>\n",
       "      <td>0.611643</td>\n",
       "    </tr>\n",
       "    <tr>\n",
       "      <th>min</th>\n",
       "      <td>22.000000</td>\n",
       "      <td>1.200000</td>\n",
       "    </tr>\n",
       "    <tr>\n",
       "      <th>25%</th>\n",
       "      <td>24.500000</td>\n",
       "      <td>1.475000</td>\n",
       "    </tr>\n",
       "    <tr>\n",
       "      <th>50%</th>\n",
       "      <td>25.500000</td>\n",
       "      <td>1.900000</td>\n",
       "    </tr>\n",
       "    <tr>\n",
       "      <th>75%</th>\n",
       "      <td>29.000000</td>\n",
       "      <td>2.350000</td>\n",
       "    </tr>\n",
       "    <tr>\n",
       "      <th>max</th>\n",
       "      <td>35.000000</td>\n",
       "      <td>3.000000</td>\n",
       "    </tr>\n",
       "  </tbody>\n",
       "</table>\n",
       "</div>"
      ],
      "text/plain": [
       "             Age       Buy\n",
       "count   8.000000  8.000000\n",
       "mean   27.000000  1.962500\n",
       "std     4.472136  0.611643\n",
       "min    22.000000  1.200000\n",
       "25%    24.500000  1.475000\n",
       "50%    25.500000  1.900000\n",
       "75%    29.000000  2.350000\n",
       "max    35.000000  3.000000"
      ]
     },
     "execution_count": 31,
     "metadata": {},
     "output_type": "execute_result"
    }
   ],
   "source": [
    "df_num.describe()"
   ]
  },
  {
   "cell_type": "markdown",
   "metadata": {},
   "source": [
    "WS 3 Median (มัธยฐาน)"
   ]
  },
  {
   "cell_type": "code",
   "execution_count": 33,
   "metadata": {},
   "outputs": [
    {
     "data": {
      "text/plain": [
       "1.9"
      ]
     },
     "execution_count": 33,
     "metadata": {},
     "output_type": "execute_result"
    }
   ],
   "source": [
    "datas = [1.2, 2.3, 1.5, 2, 3, 1.8, 1.4, 2.5]\n",
    "ds = pd.Series(datas)\n",
    "ds.median()"
   ]
  },
  {
   "cell_type": "code",
   "execution_count": 35,
   "metadata": {},
   "outputs": [
    {
     "data": {
      "text/plain": [
       "array([1.2, 1.4, 1.5, 1.8, 2. , 2.3, 2.5, 3. ])"
      ]
     },
     "execution_count": 35,
     "metadata": {},
     "output_type": "execute_result"
    }
   ],
   "source": [
    "ds.sort_values().values"
   ]
  },
  {
   "cell_type": "markdown",
   "metadata": {},
   "source": [
    "WS 4 Mode from data file"
   ]
  },
  {
   "cell_type": "code",
   "execution_count": 41,
   "metadata": {},
   "outputs": [
    {
     "data": {
      "text/plain": [
       "1.9"
      ]
     },
     "execution_count": 41,
     "metadata": {},
     "output_type": "execute_result"
    }
   ],
   "source": [
    "uri = \"data/stats_freq.xlsx\"\n",
    "df = pd.read_excel(uri)\n",
    "\n",
    "df.Sex = df.Sex.astype(\"category\")\n",
    "\n",
    "df.Buy.median()"
   ]
  },
  {
   "cell_type": "markdown",
   "metadata": {},
   "source": [
    "WS 5 Mode"
   ]
  },
  {
   "cell_type": "code",
   "execution_count": 47,
   "metadata": {},
   "outputs": [
    {
     "data": {
      "text/plain": [
       "0    25\n",
       "dtype: int64"
      ]
     },
     "execution_count": 47,
     "metadata": {},
     "output_type": "execute_result"
    }
   ],
   "source": [
    "datas = [25, 22, 25, 35, 32, 28, 23,26]\n",
    "ds = pd.Series(datas)\n",
    "ds.mode()"
   ]
  },
  {
   "cell_type": "markdown",
   "metadata": {},
   "source": [
    "WS 6 Mode from data file"
   ]
  },
  {
   "cell_type": "code",
   "execution_count": 49,
   "metadata": {},
   "outputs": [
    {
     "data": {
      "text/plain": [
       "0    25\n",
       "Name: Age, dtype: int64"
      ]
     },
     "execution_count": 49,
     "metadata": {},
     "output_type": "execute_result"
    }
   ],
   "source": [
    "uri = \"data/stats_freq.xlsx\"\n",
    "df = pd.read_excel(uri)\n",
    "\n",
    "df.Sex = df.Sex.astype(\"category\")\n",
    "\n",
    "df.Age.mode()"
   ]
  },
  {
   "cell_type": "markdown",
   "metadata": {},
   "source": [
    "WS 7 Quantile"
   ]
  },
  {
   "cell_type": "code",
   "execution_count": 50,
   "metadata": {},
   "outputs": [
    {
     "data": {
      "text/plain": [
       "count    11.000000\n",
       "mean      5.000000\n",
       "std       3.316625\n",
       "min       0.000000\n",
       "25%       2.500000\n",
       "50%       5.000000\n",
       "75%       7.500000\n",
       "max      10.000000\n",
       "dtype: float64"
      ]
     },
     "execution_count": 50,
     "metadata": {},
     "output_type": "execute_result"
    }
   ],
   "source": [
    "datas = [8, 4, 10, 2, 6, 5, 1, 7, 9, 3, 0]\n",
    "ds = pd.Series(datas)\n",
    "\n",
    "ds.describe()"
   ]
  },
  {
   "cell_type": "code",
   "execution_count": 53,
   "metadata": {},
   "outputs": [
    {
     "data": {
      "text/plain": [
       "0.25    2.5\n",
       "0.50    5.0\n",
       "0.75    7.5\n",
       "dtype: float64"
      ]
     },
     "execution_count": 53,
     "metadata": {},
     "output_type": "execute_result"
    }
   ],
   "source": [
    "ds.quantile([0.25, 0.5, 0.75])"
   ]
  },
  {
   "cell_type": "markdown",
   "metadata": {},
   "source": [
    "WS 8 Frequency Distribution"
   ]
  },
  {
   "cell_type": "code",
   "execution_count": 68,
   "metadata": {},
   "outputs": [
    {
     "name": "stdout",
     "output_type": "stream",
     "text": [
      "Male      5\n",
      "Female    3\n",
      "Name: count, dtype: int64\n",
      "Total 8\n"
     ]
    }
   ],
   "source": [
    "datas = [1, 2, 1, 2, 1, 1, 1, 2]\n",
    "ds = pd.Series(datas)\n",
    "ds = ds.replace({1:\"Male\", 2:\"Female\"})\n",
    "\n",
    "print(ds.value_counts())\n",
    "print(\"Total\", ds.count())"
   ]
  },
  {
   "cell_type": "code",
   "execution_count": 69,
   "metadata": {},
   "outputs": [
    {
     "data": {
      "text/plain": [
       "<Axes: >"
      ]
     },
     "execution_count": 69,
     "metadata": {},
     "output_type": "execute_result"
    },
    {
     "data": {
      "image/png": "[encoded data removed]",
      "text/plain": [
       "<Figure size 640x480 with 1 Axes>"
      ]
     },
     "metadata": {},
     "output_type": "display_data"
    }
   ],
   "source": [
    "ds.value_counts().plot.bar(grid=True)"
   ]
  },
  {
   "cell_type": "markdown",
   "metadata": {},
   "source": [
    "WS 9 Read files (Histogram)"
   ]
  },
  {
   "cell_type": "code",
   "execution_count": 76,
   "metadata": {},
   "outputs": [
    {
     "name": "stdout",
     "output_type": "stream",
     "text": [
      "Sex\n",
      "1    5\n",
      "2    3\n",
      "Name: count, dtype: int64\n",
      "Gender\n",
      "M    5\n",
      "F    3\n",
      "Name: count, dtype: int64\n"
     ]
    },
    {
     "data": {
      "text/plain": [
       "<Axes: xlabel='Gender'>"
      ]
     },
     "execution_count": 76,
     "metadata": {},
     "output_type": "execute_result"
    },
    {
     "data": {
      "image/png": "[encoded data removed]",
      "text/plain": [
       "<Figure size 640x480 with 1 Axes>"
      ]
     },
     "metadata": {},
     "output_type": "display_data"
    }
   ],
   "source": [
    "uri = \"data/stats_freq.xlsx\"\n",
    "df = pd.read_excel(uri)\n",
    "\n",
    "print(df.Sex.value_counts())\n",
    "print(df.Gender.value_counts())\n",
    "\n",
    "df.Gender.value_counts().plot.bar(grid = False)"
   ]
  },
  {
   "cell_type": "code",
   "execution_count": 77,
   "metadata": {},
   "outputs": [
    {
     "data": {
      "text/plain": [
       "<Axes: xlabel='Sex'>"
      ]
     },
     "execution_count": 77,
     "metadata": {},
     "output_type": "execute_result"
    },
    {
     "data": {
      "image/png": "[encoded data removed]",
      "text/plain": [
       "<Figure size 640x480 with 1 Axes>"
      ]
     },
     "metadata": {},
     "output_type": "display_data"
    }
   ],
   "source": [
    "df.Sex.value_counts().plot.bar(grid = False)"
   ]
  },
  {
   "cell_type": "code",
   "execution_count": 83,
   "metadata": {},
   "outputs": [
    {
     "name": "stdout",
     "output_type": "stream",
     "text": [
      "[0, 0, 1, 0, 0]\n"
     ]
    }
   ],
   "source": [
    "def binary_addition(A, B):\n",
    "    max_len = max(len(A), len(B))\n",
    "    \n",
    "    # เติมเลข 0 ให้สองลิสต์มีขนาดเท่ากัน\n",
    "    A = [0] * (max_len - len(A)) + A\n",
    "    B = [0] * (max_len - len(B)) + B\n",
    "    \n",
    "    # เตรียมลิสต์สำหรับผลลัพธ์และค่าเริ่มต้นของคาร์รี่\n",
    "    result = [0] * (max_len + 1)\n",
    "    carry = 0\n",
    "    \n",
    "    # บวกจากขวาไปซ้าย\n",
    "    for i in range(max_len - 1, -1, -1):\n",
    "        total = A[i] + B[i] + carry\n",
    "        result[i + 1] = total % 2  # ค่าในตำแหน่งปัจจุบัน\n",
    "        carry = total // 2  # คาร์รี่สำหรับตำแหน่งถัดไป\n",
    "    # ถ้ามีคาร์รี่เหลืออยู่ที่ตำแหน่งสูงสุด\n",
    "    result[0] = carry\n",
    "    \n",
    "    i = 4\n",
    "    temp = 0\n",
    "    while (i>=0):\n",
    "        result[i] = result[i] + temp + C\n",
    "        if result[i] == 1:\n",
    "            break\n",
    "        elif result[i] == 2:\n",
    "            result[i] = 0\n",
    "            temp = 1\n",
    "        elif result[i] == 3:\n",
    "            result[i] = 1\n",
    "            temp = 1\n",
    "        else:\n",
    "            temp = 0\n",
    "        i -= 1\n",
    "    \n",
    "    return result\n",
    "\n",
    "# ตัวอย่างการใช้\n",
    "A = [0,0,1,0]  # แทนเลขฐานสอง 1111 (15 ในฐานสิบ)\n",
    "B = [1,1,0,1]  # แทนเลขฐานสอง 0001 (1 ในฐานสิบ)\n",
    "C = 0\n",
    "\n",
    "for i in range(0,4):\n",
    "    if B[i]==1 :\n",
    "        B[i] = 0\n",
    "    else :\n",
    "        B[i] = 1\n",
    "\n",
    "result = binary_addition(A, B)\n",
    "print(result)"
   ]
  }
 ],
 "metadata": {
  "kernelspec": {
   "display_name": "Python 3",
   "language": "python",
   "name": "python3"
  },
  "language_info": {
   "codemirror_mode": {
    "name": "ipython",
    "version": 3
   },
   "file_extension": ".py",
   "mimetype": "text/x-python",
   "name": "python",
   "nbconvert_exporter": "python",
   "pygments_lexer": "ipython3",
   "version": "3.11.9"
  }
 },
 "nbformat": 4,
 "nbformat_minor": 2
}
